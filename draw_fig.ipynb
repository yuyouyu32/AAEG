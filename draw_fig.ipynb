{
 "cells": [
  {
   "cell_type": "code",
   "execution_count": 70,
   "metadata": {},
   "outputs": [],
   "source": [
    "import json\n",
    "import matplotlib.pyplot as plt\n",
    "import numpy as np\n",
    "import scienceplots\n",
    "\n",
    "with open('./eval_results_all.json', 'r') as file:\n",
    "    data = json.load(file)\n",
    "\n",
    "\n",
    "target_name = 'HV'\n",
    "unit = {'HV': '', 'UTS': '(MPa)', 'EL': '(\\%)'}\n",
    "\n",
    "y_pred = np.array(data[target_name]['detail']['y_pred'])\n",
    "y_test = np.array(data[target_name]['detail']['y_test'])\n",
    "mape = np.abs((y_test - np.abs(y_pred)) / (y_test)) * 100\n",
    "ave_r2 = data[target_name]['ave']['ave_score']\n",
    "ave_mape = data[target_name]['ave']['ave_mape']\n",
    "ave_mse = data[target_name]['ave']['ave_mse']"
   ]
  },
  {
   "cell_type": "code",
   "execution_count": 4,
   "metadata": {},
   "outputs": [],
   "source": [
    "import scienceplots\n",
    "import pandas as pd\n",
    "import numpy as np\n",
    "import matplotlib.pyplot as plt\n",
    "from sklearn.metrics import r2_score, mean_squared_error, mean_absolute_error\n",
    "\n",
    "target_name = 'EL'\n",
    "unit = {'HV': '', 'UTS': '(MPa)', 'EL': '(\\%)'}\n",
    "\n",
    "data = pd.read_excel(f'./{target_name}_pred.xlsx')\n",
    "\n",
    "y_pred = np.array(data[f\"{target_name}_pred\"])\n",
    "y_test = np.array(data[f\"{target_name}\"])\n",
    "mape = np.abs((y_test - np.abs(y_pred)) / (y_test)) * 100\n",
    "ave_r2 = r2_score(y_test, y_pred)\n",
    "ave_mape = np.mean(mape)\n",
    "ave_mse = mean_squared_error(y_test, y_pred)"
   ]
  },
  {
   "cell_type": "code",
   "execution_count": 5,
   "metadata": {},
   "outputs": [],
   "source": [
    "import matplotlib.colors as mcolors\n",
    "\n",
    "with plt.style.context(['science', 'scatter']):\n",
    "    # Create a scatter plot with a color map based on MAPE values\n",
    "    colors = mcolors.Normalize(vmin=np.min(mape), vmax=min(np.max(mape), 100))\n",
    "    plt.scatter(y_test, y_pred, c=mape, cmap='viridis', alpha=0.7, norm=colors, label=f\"${target_name} Pred$\")\n",
    "\n",
    "    # Add a color bar to indicate the range of MAPE values\n",
    "    plt.colorbar(label='MAPE(\\%)')\n",
    "\n",
    "    \n",
    "    # Plot the 45-degree line\n",
    "    min_value = min(y_test.min(), y_pred.min()) - y_test.min()/10\n",
    "    max_value = max(y_test.max(), y_pred.max()) + y_test.min()/10\n",
    "    plt.fill_between([min_value, max_value], [min_value - y_test.min()/10, max_value - y_test.min()/10], [min_value + y_test.min()/10, max_value + y_test.min()/10], color='dodgerblue', alpha=0.2, lw=0)\n",
    "    plt.plot([min_value, max_value], \n",
    "            [min_value, max_value], \n",
    "            'k--')\n",
    "\n",
    "    # Labels and title\n",
    "    plt.legend()\n",
    "    plt.xlabel(f'{target_name} True Values{unit[target_name]}', fontdict={'color': 'black', 'font': 'Times New Roman'})\n",
    "    plt.ylabel(f'{target_name} Predicted Values{unit[target_name]}', fontdict={'color': 'black', 'font': 'Times New Roman'})\n",
    "    textstr = f'$R^2 = {ave_r2:.2f}$'\n",
    "    plt.text(0.6, 0.15, textstr, transform=plt.gca().transAxes, fontsize=9, verticalalignment='top', fontdict={'color': 'black', 'font': 'Times New Roman'})\n",
    "    plt.savefig(f'./{target_name}_scatter_verification.pdf', dpi=1000, bbox_inches='tight')\n"
   ]
  }
 ],
 "metadata": {
  "kernelspec": {
   "display_name": "base",
   "language": "python",
   "name": "python3"
  },
  "language_info": {
   "codemirror_mode": {
    "name": "ipython",
    "version": 3
   },
   "file_extension": ".py",
   "mimetype": "text/x-python",
   "name": "python",
   "nbconvert_exporter": "python",
   "pygments_lexer": "ipython3",
   "version": "3.10.9"
  }
 },
 "nbformat": 4,
 "nbformat_minor": 2
}
