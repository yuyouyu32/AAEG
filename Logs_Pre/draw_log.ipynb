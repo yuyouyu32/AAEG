{
 "cells": [
  {
   "cell_type": "code",
   "execution_count": 9,
   "metadata": {},
   "outputs": [],
   "source": [
    "import pandas as pd\n",
    "import matplotlib.pyplot as plt\n",
    "import scienceplots\n",
    "\n",
    "c_loss = pd.read_csv(\"logs/C.csv\")\n",
    "smooth_loss = c_loss.ewm(alpha=(1 - 0.9)).mean()\n",
    "c_acc = pd.read_csv(\"logs/C_A.csv\")\n",
    "smooth_acc = c_acc.ewm(alpha=(1 - 0.9)).mean()\n",
    "\n",
    "# Plotting the data\n",
    "with plt.style.context(['science', 'ieee']):\n",
    "    fig, ax1 = plt.subplots(figsize=(6, 6))\n",
    "    \n",
    "    ax1.set_xlabel('Step')\n",
    "    ax1.set_ylabel('Loss', color='b')\n",
    "    ax1.plot(c_loss['Step'], c_loss['Value'], linestyle='-', color='b', label='C_Loss', alpha=0.3)\n",
    "    ax1.plot(smooth_loss['Step'], smooth_loss['Value'], linestyle='-', color='b', label='C_Loss_smooth')\n",
    "    \n",
    "    ax1.tick_params(axis='y', labelcolor='b')\n",
    "    \n",
    "    ax2 = ax1.twinx()\n",
    "    ax2.set_ylabel('Accuracy', color='r')\n",
    "    ax2.plot(c_acc['Step'], c_acc['Value'], linestyle='-', color='r', label='C_Acc', alpha=0.3)\n",
    "    ax2.plot(smooth_acc['Step'], smooth_acc['Value'], linestyle='-', color='r', label='C_Acc_smooth')\n",
    "    ax2.tick_params(axis='y', labelcolor='r')\n",
    "    fig.legend(loc='upper right', bbox_to_anchor=(0.9, 0.8))\n",
    "    fig.suptitle('C_Loss and C_Accuracy')\n",
    "    fig.tight_layout()\n",
    "    plt.grid(True, alpha=0.3)\n",
    "    plt.savefig('./C_loss_acc.pdf', dpi=500)\n",
    "    plt.close()"
   ]
  },
  {
   "cell_type": "code",
   "execution_count": 15,
   "metadata": {},
   "outputs": [],
   "source": [
    "import pandas as pd\n",
    "import matplotlib.pyplot as plt\n",
    "import scienceplots\n",
    "\n",
    "\n",
    "\n",
    "for network in {'F', 'G', 'D'}:\n",
    "    loss = pd.read_csv(f\"logs/{network}.csv\")\n",
    "    smooth_loss = loss.ewm(alpha=(1 - 0.99)).mean()\n",
    "    # Plotting the data\n",
    "    with plt.style.context(['science', 'ieee']):\n",
    "        fig, ax1 = plt.subplots(figsize=(6, 6))\n",
    "        \n",
    "        ax1.set_xlabel('Step')\n",
    "        ax1.set_ylabel('Loss')\n",
    "        plt.plot(loss[\"Value\"], alpha=0.3, color='b', label=f'{network}_Loss')\n",
    "        plt.plot(smooth_loss[\"Value\"], color='b', label=f'{network}_smooth_Loss')\n",
    "        \n",
    "        fig.suptitle(f'{network}_Loss')\n",
    "        fig.tight_layout()\n",
    "        plt.grid(True, alpha=0.3)\n",
    "        fig.legend(loc='upper right', bbox_to_anchor=(0.95, 0.95))\n",
    "        plt.savefig(f'./{network}_loss.pdf', dpi=500)\n",
    "        plt.close()"
   ]
  }
 ],
 "metadata": {
  "kernelspec": {
   "display_name": "base",
   "language": "python",
   "name": "python3"
  },
  "language_info": {
   "codemirror_mode": {
    "name": "ipython",
    "version": 3
   },
   "file_extension": ".py",
   "mimetype": "text/x-python",
   "name": "python",
   "nbconvert_exporter": "python",
   "pygments_lexer": "ipython3",
   "version": "3.11.5"
  }
 },
 "nbformat": 4,
 "nbformat_minor": 2
}
